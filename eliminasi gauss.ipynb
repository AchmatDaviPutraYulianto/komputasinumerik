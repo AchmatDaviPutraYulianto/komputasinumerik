{
  "nbformat": 4,
  "nbformat_minor": 0,
  "metadata": {
    "colab": {
      "provenance": [],
      "include_colab_link": true
    },
    "kernelspec": {
      "name": "python3",
      "display_name": "Python 3"
    },
    "language_info": {
      "name": "python"
    }
  },
  "cells": [
    {
      "cell_type": "markdown",
      "metadata": {
        "id": "view-in-github",
        "colab_type": "text"
      },
      "source": [
        "<a href=\"https://colab.research.google.com/github/AchmatDaviPutraYulianto/komputasinumerik/blob/main/eliminasi%20gauss.ipynb\" target=\"_parent\"><img src=\"https://colab.research.google.com/assets/colab-badge.svg\" alt=\"Open In Colab\"/></a>"
      ]
    },
    {
      "cell_type": "code",
      "execution_count": 7,
      "metadata": {
        "colab": {
          "base_uri": "https://localhost:8080/"
        },
        "id": "C3aJpOzwRswY",
        "outputId": "06e36395-95a2-4cc2-96c7-5379a5e77093"
      },
      "outputs": [
        {
          "output_type": "stream",
          "name": "stdout",
          "text": [
            "Sistem Persamaan Linear matriks adalah:\n",
            "[2, 3, -1, 5]\n",
            "[4, 4, -3, 3]\n",
            "[-2, 3, -1, 1]\n"
          ]
        }
      ],
      "source": [
        "# Inisialisasi Matriks\n",
        "SPL = [[2, 3, -1, 5], [4, 4, -3, 3], [-2, 3, -1, 1]]\n",
        "print(\"Sistem Persamaan Linear matriks adalah:\")\n",
        "for row in SPL:\n",
        "    print(row)\n"
      ]
    },
    {
      "cell_type": "code",
      "source": [
        "# Operasi Baris ke-2\n",
        "for i in range(4):  # Kolom 0 hingga 3\n",
        "    SPL[1][i] = SPL[1][i] - (2 * SPL[0][i])  # 2 adalah SPL[1][0] / SPL[0][0]\n",
        "\n",
        "print(\"Setelah eliminasi pada baris ke-2:\")\n",
        "for row in SPL:\n",
        "    print(row)"
      ],
      "metadata": {
        "id": "aBeb-rF2lENP",
        "outputId": "83865845-b947-42b7-f02a-f83843377f8d",
        "colab": {
          "base_uri": "https://localhost:8080/"
        }
      },
      "execution_count": 9,
      "outputs": [
        {
          "output_type": "stream",
          "name": "stdout",
          "text": [
            "Setelah eliminasi pada baris ke-2:\n",
            "[2, 3, -1, 5]\n",
            "[-4, -8, 1, -17]\n",
            "[-2, 3, -1, 1]\n"
          ]
        }
      ]
    },
    {
      "cell_type": "code",
      "source": [],
      "metadata": {
        "id": "NHlnNm6ql12F"
      },
      "execution_count": null,
      "outputs": []
    },
    {
      "cell_type": "code",
      "source": [
        "# Operasi Baris ke-3\n",
        "for i in range(4):  # Kolom 0 hingga 3\n",
        "    SPL[2][i] = SPL[2][i] - (-1 * SPL[0][i])  # -1 adalah SPL[2][0] / SPL[0][0]\n",
        "\n",
        "print(\"Setelah eliminasi pada baris ke-3:\")\n",
        "for row in SPL:\n",
        "    print(row)"
      ],
      "metadata": {
        "colab": {
          "base_uri": "https://localhost:8080/"
        },
        "id": "js9lGSow2LIs",
        "outputId": "90d82978-1a51-414a-8f7d-960ecd6d678f"
      },
      "execution_count": 12,
      "outputs": [
        {
          "output_type": "stream",
          "name": "stdout",
          "text": [
            "Setelah eliminasi pada baris ke-3:\n",
            "[2, 3, -1, 5]\n",
            "[-4, -8, 1, -17]\n",
            "[2, -15, 0, -40]\n"
          ]
        }
      ]
    },
    {
      "cell_type": "code",
      "source": [
        "# Eliminasi lanjut pada Baris ke-3\n",
        "for i in range(3):  # Kolom 1 hingga 3\n",
        "    SPL[2][i + 1] = SPL[2][i + 1] - (-3 * SPL[1][i + 1])  # -3 adalah SPL[2][1] / SPL[1][1]\n",
        "\n",
        "print(\"Setelah eliminasi lanjut pada baris ke-3:\")\n",
        "for row in SPL:\n",
        "    print(row)"
      ],
      "metadata": {
        "colab": {
          "base_uri": "https://localhost:8080/"
        },
        "id": "ciwrHKDW745H",
        "outputId": "d7a85b9b-74c6-49d9-b586-838037d4d224"
      },
      "execution_count": 11,
      "outputs": [
        {
          "output_type": "stream",
          "name": "stdout",
          "text": [
            "Setelah eliminasi lanjut pada baris ke-3:\n",
            "[2, 3, -1, 5]\n",
            "[-4, -8, 1, -17]\n",
            "[0, -18, 1, -45]\n"
          ]
        }
      ]
    }
  ]
}